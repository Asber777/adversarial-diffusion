{
 "cells": [
  {
   "cell_type": "code",
   "execution_count": 59,
   "source": [
    "import os.path as osp\n",
    "import numpy as np\n",
    "import torch\n",
    "from torchvision import transforms\n",
    "unloader = transforms.ToPILImage()\n",
    "exp_path = '/root/hhtpro/123/result/adv_scale0neg_sce/adv-2022-06-23-16-24-50-539446'\n",
    "file_path = osp.join(exp_path, \"samples_5x64x64x3.npz\")\n",
    "result = np.load(file_path, )\n",
    "picture = result['arr_0']\n",
    "y = result['arr_1']\n",
    "adv_y = result['arr_2']\n",
    "picture = torch.from_numpy(np.array(picture))\n",
    "picture = picture.permute(0, 3, 1, 2)\n",
    "picture = torch.clip(picture/255., 0, 1)\n",
    "row_picture = torch.cat([pic for pic in picture], 2)\n",
    "unloader(row_picture).save(osp.join(exp_path, \"result.jpg\"))"
   ],
   "outputs": [],
   "metadata": {}
  },
  {
   "cell_type": "markdown",
   "source": [],
   "metadata": {}
  }
 ],
 "metadata": {
  "kernelspec": {
   "display_name": "Python 3.8.3 ('base')",
   "language": "python",
   "name": "python3"
  },
  "language_info": {
   "codemirror_mode": {
    "name": "ipython",
    "version": 3
   },
   "file_extension": ".py",
   "mimetype": "text/x-python",
   "name": "python",
   "nbconvert_exporter": "python",
   "pygments_lexer": "ipython3",
   "version": "3.8.3"
  },
  "orig_nbformat": 4,
  "vscode": {
   "interpreter": {
    "hash": "88516cc94b965045253aac22be7e673e07faa374a8dfeab45aefc65ddf94d8b2"
   }
  }
 },
 "nbformat": 4,
 "nbformat_minor": 2
}